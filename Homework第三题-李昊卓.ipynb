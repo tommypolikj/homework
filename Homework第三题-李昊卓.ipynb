{
 "cells": [
  {
   "cell_type": "code",
   "execution_count": 121,
   "metadata": {},
   "outputs": [
    {
     "data": {
      "text/plain": [
       "[2,\n",
       " 11,\n",
       " 13,\n",
       " 17,\n",
       " 19,\n",
       " 31,\n",
       " 37,\n",
       " 53,\n",
       " 59,\n",
       " 71,\n",
       " 73,\n",
       " 79,\n",
       " 97,\n",
       " 101,\n",
       " 103,\n",
       " 107,\n",
       " 109,\n",
       " 127,\n",
       " 149,\n",
       " 163,\n",
       " 167,\n",
       " 181]"
      ]
     },
     "execution_count": 121,
     "metadata": {},
     "output_type": "execute_result"
    }
   ],
   "source": [
    "#输出所有200以内，各个数位之和为偶数的数\n",
    "number=[]\n",
    "final=[]\n",
    "for num in range(2,201):\n",
    "    for i in range(2,num):\n",
    "        if (num%i)==0:\n",
    "            break\n",
    "    else: \n",
    "        number.append(num)\n",
    "        if(num//100 + num//10 + num)%2==0:\n",
    "            final.append(num)\n",
    "final\n"
   ]
  }
 ],
 "metadata": {
  "kernelspec": {
   "display_name": "Python 3",
   "language": "python",
   "name": "python3"
  },
  "language_info": {
   "codemirror_mode": {
    "name": "ipython",
    "version": 3
   },
   "file_extension": ".py",
   "mimetype": "text/x-python",
   "name": "python",
   "nbconvert_exporter": "python",
   "pygments_lexer": "ipython3",
   "version": "3.6.2"
  }
 },
 "nbformat": 4,
 "nbformat_minor": 2
}
